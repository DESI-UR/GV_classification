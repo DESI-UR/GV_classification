{
 "cells": [
  {
   "cell_type": "markdown",
   "metadata": {},
   "source": [
    "Here, we redefine the early type region in the color - color-gradient space based on the aimc values as calculated with Greg's formula (Eqn. 3 in ZengilowskiSummary.pdf):\n",
    "\n",
    "\\begin{equation}\n",
    "  \\text{aimc} = \\tan^{-1} \\left( \\frac{-\\Delta (g - i) + 0.260}{(u - r) - 1.343} \\right)\n",
    "\\end{equation}"
   ]
  },
  {
   "cell_type": "code",
   "execution_count": 2,
   "metadata": {},
   "outputs": [],
   "source": [
    "from astropy.table import Table\n",
    "\n",
    "import numpy as np\n",
    "\n",
    "import matplotlib.pyplot as plt"
   ]
  },
  {
   "cell_type": "markdown",
   "metadata": {},
   "source": [
    "## Data import"
   ]
  },
  {
   "cell_type": "code",
   "execution_count": 3,
   "metadata": {},
   "outputs": [],
   "source": [
    "#galaxy_filename = '/Users/kellydouglass/Documents/Drexel/Research/Data/kias1033_5_P-MJD-F_MPAJHU_ZdustOS_stellarMass_BPT_SFR_NSA_correctVflag.txt'\n",
    "galaxy_filename = '/Users/kellydouglass/Documents/Research/data/NSA_v1_0_1_VAGC.fits'\n",
    "\n",
    "#galaxies = Table.read(galaxy_filename, format='ascii.commented_header')\n",
    "galaxies = Table.read(galaxy_filename, format='fits')"
   ]
  },
  {
   "cell_type": "markdown",
   "metadata": {},
   "source": [
    "# Calculate aimc for every galaxy"
   ]
  },
  {
   "cell_type": "code",
   "execution_count": 4,
   "metadata": {},
   "outputs": [],
   "source": [
    "def aimc_greg(grad, color):\n",
    "    \n",
    "    grad_shift = 0.260\n",
    "    color_shift = -1.343\n",
    "    \n",
    "    aimc = np.arctan2(-grad + grad_shift, color + color_shift)\n",
    "    \n",
    "    # Need to convert from radians to degrees\n",
    "    aimc = aimc*180/np.pi\n",
    "    \n",
    "    # Need to map [-180,0) to [180,360)\n",
    "    aimc[aimc < 0] += 360\n",
    "    \n",
    "    return aimc"
   ]
  },
  {
   "cell_type": "code",
   "execution_count": 5,
   "metadata": {},
   "outputs": [],
   "source": [
    "galaxies['aimc_greg'] = aimc_greg(galaxies['cd'], galaxies['u_r'])"
   ]
  },
  {
   "cell_type": "code",
   "execution_count": 6,
   "metadata": {},
   "outputs": [
    {
     "data": {
      "text/html": [
       "<div><i>Table length=5</i>\n",
       "<table id=\"table140279359710928\" class=\"table-striped table-bordered table-condensed\">\n",
       "<thead><tr><th>IAUNAME</th><th>SUBDIR</th><th>RA</th><th>DEC</th><th>ISDSS</th><th>INED</th><th>ISIXDF</th><th>IALFALFA</th><th>IZCAT</th><th>ITWODF</th><th>MAG</th><th>Z</th><th>ZSRC</th><th>SIZE</th><th>RUN</th><th>CAMCOL</th><th>FIELD</th><th>RERUN</th><th>XPOS</th><th>YPOS</th><th>NSAID</th><th>ZDIST</th><th>SERSIC_NMGY</th><th>SERSIC_NMGY_IVAR</th><th>SERSIC_OK</th><th>SERSIC_RNMGY</th><th>SERSIC_ABSMAG</th><th>SERSIC_AMIVAR</th><th>EXTINCTION</th><th>SERSIC_KCORRECT</th><th>SERSIC_KCOEFF</th><th>SERSIC_MTOL</th><th>SERSIC_B300</th><th>SERSIC_B1000</th><th>SERSIC_METS</th><th>SERSIC_MASS</th><th>XCEN</th><th>YCEN</th><th>NPROF</th><th>PROFMEAN</th><th>PROFMEAN_IVAR</th><th>QSTOKES</th><th>USTOKES</th><th>BASTOKES</th><th>PHISTOKES</th><th>PETRO_FLUX</th><th>PETRO_FLUX_IVAR</th><th>FIBER_FLUX</th><th>FIBER_FLUX_IVAR</th><th>PETRO_BA50</th><th>PETRO_PHI50</th><th>PETRO_BA90</th><th>PETRO_PHI90</th><th>SERSIC_FLUX</th><th>SERSIC_FLUX_IVAR</th><th>SERSIC_N</th><th>SERSIC_BA</th><th>SERSIC_PHI</th><th>ASYMMETRY</th><th>CLUMPY</th><th>DFLAGS</th><th>AID</th><th>PID</th><th>DVERSION</th><th>PROFTHETA</th><th>PETRO_THETA</th><th>PETRO_TH50</th><th>PETRO_TH90</th><th>SERSIC_TH50</th><th>PLATE</th><th>FIBERID</th><th>MJD</th><th>RACAT</th><th>DECCAT</th><th>ZSDSSLINE</th><th>SURVEY</th><th>PROGRAMNAME</th><th>PLATEQUALITY</th><th>TILE</th><th>PLUG_RA</th><th>PLUG_DEC</th><th>ELPETRO_BA</th><th>ELPETRO_PHI</th><th>ELPETRO_FLUX_R</th><th>ELPETRO_FLUX_IVAR_R</th><th>ELPETRO_THETA_R</th><th>ELPETRO_TH50_R</th><th>ELPETRO_TH90_R</th><th>ELPETRO_THETA</th><th>ELPETRO_FLUX</th><th>ELPETRO_FLUX_IVAR</th><th>ELPETRO_TH50</th><th>ELPETRO_TH90</th><th>ELPETRO_APCORR_R</th><th>ELPETRO_APCORR</th><th>ELPETRO_APCORR_SELF</th><th>ELPETRO_NMGY</th><th>ELPETRO_NMGY_IVAR</th><th>ELPETRO_OK</th><th>ELPETRO_RNMGY</th><th>ELPETRO_ABSMAG</th><th>ELPETRO_AMIVAR</th><th>ELPETRO_KCORRECT</th><th>ELPETRO_KCOEFF</th><th>ELPETRO_MASS</th><th>ELPETRO_MTOL</th><th>ELPETRO_B300</th><th>ELPETRO_B1000</th><th>ELPETRO_METS</th><th>IN_DR7_LSS</th><th>u_r</th><th>u_r_err</th><th>g_r</th><th>g_r_err</th><th>NUV_r</th><th>NUV_r_err</th><th>index</th><th>imc</th><th>aimc</th><th>cd</th><th>conx1</th><th>u_r_KIAS</th><th>prmag</th><th>BPTclass</th><th>SFR</th><th>sSFR</th><th>HImass</th><th>flag3727</th><th>t3</th><th>Z12logOH</th><th>Zerr</th><th>N12logNH</th><th>NHerr</th><th>logNO</th><th>NOerr</th><th>Ne12logNeH</th><th>NeHerr</th><th>logNeO</th><th>NeOerr</th><th>Z_N2O2</th><th>vorvol</th><th>CMD_class</th><th>aimc_greg</th></tr></thead>\n",
       "<thead><tr><th>bytes19</th><th>bytes27</th><th>float64</th><th>float64</th><th>int32</th><th>int32</th><th>int32</th><th>int32</th><th>int32</th><th>int32</th><th>float32</th><th>float32</th><th>bytes7</th><th>float32</th><th>int16</th><th>uint8</th><th>int16</th><th>bytes3</th><th>float32</th><th>float32</th><th>int32</th><th>float32</th><th>float32[7]</th><th>float32[7]</th><th>int16</th><th>float32[7]</th><th>float32[7]</th><th>float32[7]</th><th>float32[7]</th><th>float32[7]</th><th>float32[5]</th><th>float32[7]</th><th>float32</th><th>float32</th><th>float32</th><th>float32</th><th>float64</th><th>float64</th><th>uint8[7]</th><th>float32[15,7]</th><th>float32[15,7]</th><th>float32[15,7]</th><th>float32[15,7]</th><th>float32[15,7]</th><th>float32[15,7]</th><th>float32[7]</th><th>float32[7]</th><th>float32[7]</th><th>float32[7]</th><th>float32</th><th>float32</th><th>float32</th><th>float32</th><th>float32[7]</th><th>float32[7]</th><th>float32</th><th>float32</th><th>float32</th><th>float32[7]</th><th>float32[7]</th><th>int32[7]</th><th>int32</th><th>int32</th><th>bytes8</th><th>float32[15]</th><th>float32</th><th>float32</th><th>float32</th><th>float32</th><th>int32</th><th>int16</th><th>int32</th><th>float64</th><th>float64</th><th>float32</th><th>bytes6</th><th>bytes27</th><th>bytes8</th><th>int32</th><th>float64</th><th>float64</th><th>float32</th><th>float32</th><th>float32</th><th>float32</th><th>float32</th><th>float32</th><th>float32</th><th>float32</th><th>float32[7]</th><th>float32[7]</th><th>float32[7]</th><th>float32[7]</th><th>float32</th><th>float32[7]</th><th>float32[7]</th><th>float32[7]</th><th>float32[7]</th><th>int16</th><th>float32[7]</th><th>float32[7]</th><th>float32[7]</th><th>float32[7]</th><th>float32[5]</th><th>float32</th><th>float32[7]</th><th>float32</th><th>float32</th><th>float32</th><th>float64</th><th>float64</th><th>float64</th><th>float64</th><th>float64</th><th>float64</th><th>float64</th><th>int64</th><th>int64</th><th>float64</th><th>float64</th><th>float64</th><th>float64</th><th>float64</th><th>int64</th><th>float64</th><th>float64</th><th>float64</th><th>int64</th><th>float64</th><th>float64</th><th>float64</th><th>float64</th><th>float64</th><th>float64</th><th>float64</th><th>float64</th><th>float64</th><th>float64</th><th>float64</th><th>float64</th><th>float64</th><th>int64</th><th>float64</th></tr></thead>\n",
       "<tr><td>J094651.40-010228.5</td><td>09h/m00/J094651.40-010228.5</td><td>146.714215072841</td><td>-1.0412800233313741</td><td>0</td><td>72212</td><td>37354</td><td>-1</td><td>-1</td><td>-1</td><td>15.178774</td><td>0.021222278</td><td>sdss</td><td>0.07</td><td>756</td><td>1</td><td>206</td><td>301</td><td>136.2967</td><td>1095.152</td><td>0</td><td>0.020687785</td><td>29.696056 .. 3267.6895</td><td>0.29814342 .. 0.00012172792</td><td>1</td><td>31.368013 .. 3501.2527</td><td>-15.17281 .. -20.302134</td><td>223.03555 .. 1102.6129</td><td>0.4536473 .. 0.080934174</td><td>-0.005893635 .. 0.019576037</td><td>0.00017777947 .. 5.1533486e-11</td><td>0.00020792194 .. 0.98780394</td><td>2.7473723e-05</td><td>0.31195974</td><td>0.035135116</td><td>8898397000.0</td><td>215.39407348632812</td><td>213.4535369873047</td><td>10 .. 12</td><td>0.3149959 .. 0.0</td><td>233.37904 .. 0.0</td><td>0.062215745 .. -0.07950058</td><td>0.0006146176 .. -0.1274703</td><td>0.8828513 .. 0.7387829</td><td>0.2829979 .. -60.97547</td><td>18.203371 .. 2264.6604</td><td>1.9946122 .. 0.015697604</td><td>1.0260131 .. 561.97687</td><td>47.3397 .. 0.33574256</td><td>0.88909996</td><td>14.777527</td><td>0.80408496</td><td>17.367554</td><td>19.554192 .. 3146.785</td><td>1.0691423 .. 0.017162137</td><td>4.7761517</td><td>0.6651653</td><td>15.97821</td><td>-0.0109440535 .. 0.004525926</td><td>0.042470127 .. 0.042621203</td><td>0 .. 0</td><td>0</td><td>36</td><td>v2_1_13</td><td>0.22341923 .. 258.39</td><td>7.2478933</td><td>3.4641922</td><td>10.453795</td><td>5.882104</td><td>266</td><td>1</td><td>51630</td><td>146.71420341874853</td><td>-1.0412749124036818</td><td>0.0</td><td>sdss</td><td>legacy</td><td>good</td><td>122</td><td>146.71421</td><td>-1.0413043</td><td>0.80408496</td><td>17.367554</td><td>1144.0713</td><td>0.4582725</td><td>7.3913364</td><td>3.7061903</td><td>10.666219</td><td>7.3913364</td><td>18.787916 .. 2225.009</td><td>1.8480047 .. 0.017611798</td><td>5.8557696 .. 3.4004514</td><td>11.650886 .. 10.1460905</td><td>0.9986329</td><td>1.0687045 .. 1.001099</td><td>1.0695114 .. 1.0010818</td><td>28.532349 .. 2310.4973</td><td>0.42499655 .. 0.00024172392</td><td>1</td><td>28.661283 .. 2337.7668</td><td>-15.124495 .. -19.915525</td><td>293.50247 .. 1094.6666</td><td>-0.010805 .. 0.009306902</td><td>3.9630737e-05 .. 2.6251464e-06</td><td>6833158000.0</td><td>0.00017553588 .. 1.14686</td><td>0.004447123</td><td>0.09061434</td><td>0.025269886</td><td>0.0</td><td>2.102100372314453</td><td>0.05705771896581967</td><td>0.6852951049804688</td><td>0.028481039697905677</td><td>3.6217403411865234</td><td>0.04932407986500486</td><td>4000000</td><td>-99</td><td>-99.0</td><td>-99.0</td><td>-99.0</td><td>-99.0</td><td>-99.0</td><td>-99</td><td>--</td><td>--</td><td>--</td><td>-99</td><td>--</td><td>--</td><td>--</td><td>--</td><td>--</td><td>--</td><td>--</td><td>--</td><td>--</td><td>--</td><td>--</td><td>--</td><td>--</td><td>-99</td><td>89.56183357164186</td></tr>\n",
       "<tr><td>J094630.85-004554.5</td><td>09h/m00/J094630.85-004554.5</td><td>146.6285851269414</td><td>-0.7651620976591762</td><td>1</td><td>-1</td><td>-1</td><td>-1</td><td>-1</td><td>-1</td><td>17.318521</td><td>0.06465632</td><td>sdss</td><td>0.06491773</td><td>1239</td><td>2</td><td>175</td><td>301</td><td>735.56384</td><td>1277.3636</td><td>1</td><td>0.06403577</td><td>2.4606192 .. 443.66675</td><td>5.447516 .. 0.006137319</td><td>1</td><td>2.6590455 .. 454.05856</td><td>-14.978118 .. -20.688284</td><td>27.979414 .. 1024.811</td><td>0.60185605 .. 0.10737576</td><td>-0.018567445 .. 0.051569887</td><td>1.7666649e-05 .. 6.712402e-13</td><td>0.00035330586 .. 1.0529422</td><td>1.4492807e-05</td><td>0.21530226</td><td>0.031020422</td><td>12929411000.0</td><td>145.3625946044922</td><td>121.33534240722656</td><td>10 .. 11</td><td>0.044930786 .. 0.0</td><td>1644.0168 .. 0.0</td><td>0.15447958 .. 0.1804297</td><td>0.0016548077 .. 0.05960713</td><td>0.73236895 .. 0.680643</td><td>0.30686864 .. 9.140798</td><td>1.5539132 .. 380.1313</td><td>11.729078 .. 0.018252498</td><td>0.10988019 .. 131.71373</td><td>345.7848 .. 0.57769156</td><td>0.7371746</td><td>87.53705</td><td>0.50988674</td><td>87.96927</td><td>1.4135201 .. 416.9717</td><td>17.281208 .. 0.089459315</td><td>2.222374</td><td>0.27854216</td><td>86.21106</td><td>-0.0066564083 .. 0.0052427053</td><td>0.04789895 .. 0.075857244</td><td>0 .. 0</td><td>0</td><td>29</td><td>v2_1_13</td><td>0.22341923 .. 258.39</td><td>5.6178217</td><td>2.3269887</td><td>6.7219906</td><td>3.291051</td><td>266</td><td>4</td><td>51630</td><td>146.62857001083813</td><td>-0.7651439853236099</td><td>0.0</td><td>sdss</td><td>legacy</td><td>good</td><td>122</td><td>146.62857</td><td>-0.76513683</td><td>0.50988674</td><td>87.96926</td><td>185.97183</td><td>0.62044895</td><td>6.581605</td><td>2.9719684</td><td>8.093729</td><td>6.581605</td><td>1.614101 .. 385.6091</td><td>12.512996 .. 0.025627436</td><td>6.0647826 .. 2.8283458</td><td>9.8568735 .. 8.044135</td><td>1.0033052</td><td>1.101541 .. 0.9988729</td><td>1.1308625 .. 0.99827486</td><td>2.8097854 .. 410.2963</td><td>3.9543293 .. 0.005790308</td><td>1</td><td>2.917754 .. 415.73123</td><td>-15.113855 .. -20.591503</td><td>26.483196 .. 826.89087</td><td>-0.026901115 .. 0.039683696</td><td>1.06661e-05 .. 1.3970519e-12</td><td>12135996000.0</td><td>0.0003045496 .. 1.0913272</td><td>1.6861053e-05</td><td>0.14151204</td><td>0.027635332</td><td>1.0</td><td>2.6178245544433594</td><td>0.19825141601153462</td><td>0.7340774536132812</td><td>0.03210842118713859</td><td>4.131230354309082</td><td>0.08331411614336871</td><td>180229</td><td>1</td><td>1.0</td><td>-0.169</td><td>0.356</td><td>2.697</td><td>16.627</td><td>3</td><td>-0.6210674047470093</td><td>-11.241625785827637</td><td>--</td><td>-99</td><td>--</td><td>--</td><td>--</td><td>--</td><td>--</td><td>--</td><td>--</td><td>--</td><td>--</td><td>--</td><td>--</td><td>9.48280122055993</td><td>0.0</td><td>2</td><td>18.598955889613862</td></tr>\n",
       "<tr><td>J094631.59-005917.7</td><td>09h/m00/J094631.59-005917.7</td><td>146.63170644325592</td><td>-0.9883467023052999</td><td>2</td><td>72132</td><td>-1</td><td>-1</td><td>-1</td><td>-1</td><td>18.123354</td><td>0.05265425</td><td>sdss</td><td>0.07</td><td>756</td><td>1</td><td>206</td><td>301</td><td>618.0556</td><td>344.6873</td><td>2</td><td>0.052030597</td><td>5.9062114 .. 117.6328</td><td>2.735704 .. 0.048443027</td><td>1</td><td>5.766684 .. 117.70143</td><td>-15.453841 .. -18.720377</td><td>80.95401 .. 568.64264</td><td>0.43238893 .. 0.07714152</td><td>-0.024124824 .. -0.005638472</td><td>2.5192165e-07 .. 4.9804896e-07</td><td>3.070332e-05 .. 0.8028418</td><td>0.024668738</td><td>0.0852406</td><td>0.021334123</td><td>1573399200.0</td><td>79.96614074707031</td><td>90.70097351074219</td><td>9 .. 10</td><td>0.15507016 .. 0.0</td><td>454.9598 .. 0.0</td><td>-0.006260235 .. -0.12462888</td><td>0.00027153647 .. -0.03455963</td><td>0.9875458 .. 0.7709587</td><td>88.75818 .. -82.25064</td><td>3.430186 .. 138.60387</td><td>8.568999 .. 0.018438479</td><td>0.4591055 .. 31.897715</td><td>115.09581 .. 0.68231297</td><td>0.76752096</td><td>161.0622</td><td>0.5954031</td><td>162.72363</td><td>3.9660065 .. 113.676796</td><td>6.9698696 .. 0.10624967</td><td>0.88311815</td><td>0.45403665</td><td>163.90436</td><td>0.04256475 .. 0.012925059</td><td>0.2935813 .. -0.043825477</td><td>0 .. 0</td><td>0</td><td>33</td><td>v2_1_13</td><td>0.22341923 .. 258.39</td><td>4.7698913</td><td>2.278736</td><td>5.1779103</td><td>2.8177862</td><td>266</td><td>6</td><td>51630</td><td>146.63164771049065</td><td>-0.9882588093923149</td><td>0.0</td><td>sdss</td><td>legacy</td><td>good</td><td>122</td><td>146.63167</td><td>-0.98827781</td><td>0.5954031</td><td>162.72362</td><td>73.537186</td><td>0.70116085</td><td>5.5319614</td><td>2.7789824</td><td>6.0893784</td><td>5.5319614</td><td>4.895678 .. 115.44117</td><td>7.500193 .. 0.022838634</td><td>4.4029393 .. 2.9222565</td><td>9.300362 .. 6.7642803</td><td>1.0013566</td><td>1.108137 .. 1.0008979</td><td>1.0882177 .. 1.0029837</td><td>7.290686 .. 119.45858</td><td>2.7185972 .. 0.01730672</td><td>1</td><td>6.974619 .. 122.09129</td><td>-15.660282 .. -18.744165</td><td>122.58378 .. 209.5081</td><td>-0.046333067 .. 0.001428483</td><td>5.522025e-11 .. 1.388793e-07</td><td>1788938800.0</td><td>2.9459869e-05 .. 0.8742925</td><td>0.006104483</td><td>0.057695847</td><td>0.021391599</td><td>0.0</td><td>1.4915904998779297</td><td>0.11331273143597417</td><td>0.4915618896484375</td><td>0.039859595594343225</td><td>2.5179662704467773</td><td>0.0683905526171301</td><td>4000001</td><td>-99</td><td>-99.0</td><td>-99.0</td><td>-99.0</td><td>-99.0</td><td>-99.0</td><td>-99</td><td>--</td><td>--</td><td>--</td><td>-99</td><td>--</td><td>--</td><td>--</td><td>--</td><td>--</td><td>--</td><td>--</td><td>--</td><td>--</td><td>--</td><td>--</td><td>--</td><td>--</td><td>-99</td><td>89.91422927504323</td></tr>\n",
       "<tr><td>J094744.18-004013.4</td><td>09h/m00/J094744.18-004013.4</td><td>146.9341288729797</td><td>-0.6704053610430766</td><td>3</td><td>-1</td><td>-1</td><td>-1</td><td>-1</td><td>-1</td><td>17.660961</td><td>0.121270485</td><td>sdss</td><td>0.035120796</td><td>1239</td><td>2</td><td>177</td><td>301</td><td>1596.5807</td><td>1332.545</td><td>3</td><td>0.1206503</td><td>0.59546506 .. 578.8718</td><td>9.035561 .. 0.0035411348</td><td>1</td><td>0.7218249 .. 553.9784</td><td>-14.764457 .. -22.449923</td><td>2.7178097 .. 1006.60394</td><td>0.7170526 .. 0.12792772</td><td>-0.1506549 .. 0.06549595</td><td>1.19462175e-05 .. 1.7515072e-08</td><td>0.002110761 .. 1.223524</td><td>0.00011213933</td><td>0.09278005</td><td>0.025959628</td><td>71169860000.0</td><td>137.42404174804688</td><td>125.49797058105469</td><td>8 .. 11</td><td>0.003647356 .. 0.0</td><td>8113.7544 .. 0.0</td><td>-0.19626419 .. -0.055742305</td><td>-0.030730866 .. 0.05399963</td><td>0.668536 .. 0.85596067</td><td>-85.55046 .. 67.95488</td><td>0.20122944 .. 426.2722</td><td>17.745825 .. 0.012332003</td><td>0.034221034 .. 143.77124</td><td>967.08167 .. 0.45689023</td><td>0.86656487</td><td>143.07059</td><td>0.8717792</td><td>137.78821</td><td>0.30763465 .. 533.8403</td><td>34.00086 .. 0.044268627</td><td>6.0</td><td>0.9274694</td><td>151.60822</td><td>-0.948365 .. -0.035975456</td><td>0.03786385 .. -0.040295005</td><td>0 .. 0</td><td>0</td><td>10</td><td>v2_1_13</td><td>0.22341923 .. 258.39</td><td>6.243227</td><td>2.6551907</td><td>9.177605</td><td>2.3659685</td><td>266</td><td>11</td><td>51630</td><td>146.93412051706812</td><td>-0.6704051378070931</td><td>0.0</td><td>sdss</td><td>legacy</td><td>good</td><td>122</td><td>146.9341</td><td>-0.67040397</td><td>0.8717792</td><td>137.78822</td><td>188.01964</td><td>0.0045111887</td><td>6.0937533</td><td>2.5156991</td><td>8.819097</td><td>6.0937533</td><td>0.17188334 .. 430.66693</td><td>17.761442 .. 0.014656738</td><td>2.0069053 .. 2.448878</td><td>5.1804347 .. 8.978253</td><td>1.000473</td><td>1.0810981 .. 1.0031528</td><td>1.0690908 .. 1.0021293</td><td>0.33270153 .. 466.9954</td><td>4.7372575 .. 0.0040530795</td><td>1</td><td>0.3503071 .. 468.5555</td><td>-14.501482 .. -22.221018</td><td>0.44482368 .. 749.82794</td><td>0.21837461 .. 0.069767624</td><td>1.23576565e-05 .. 9.264894e-12</td><td>57484075000.0</td><td>0.0025006996 .. 1.1638231</td><td>4.5900248e-07</td><td>0.124371074</td><td>0.027231464</td><td>1.0</td><td>2.541950225830078</td><td>0.22364286868375569</td><td>0.8120059967041016</td><td>0.0933646475660505</td><td>5.331869125366211</td><td>0.28334023702088673</td><td>180235</td><td>1</td><td>1.0</td><td>-0.008</td><td>0.297</td><td>2.798</td><td>16.643</td><td>-1</td><td>-0.5</td><td>-11.71275806427002</td><td>--</td><td>-99</td><td>--</td><td>--</td><td>--</td><td>--</td><td>--</td><td>--</td><td>--</td><td>--</td><td>--</td><td>--</td><td>--</td><td>--</td><td>0.0</td><td>3</td><td>12.600130755505248</td></tr>\n",
       "<tr><td>J094751.74-003242.0</td><td>09h/m00/J094751.74-003242.0</td><td>146.9634997327016</td><td>-0.5447758299302171</td><td>4</td><td>-1</td><td>-1</td><td>-1</td><td>-1</td><td>-1</td><td>17.616278</td><td>0.055980586</td><td>sdss</td><td>0.069483906</td><td>756</td><td>2</td><td>208</td><td>301</td><td>832.6433</td><td>656.1359</td><td>4</td><td>0.05536205</td><td>0.7154174 .. 211.616</td><td>3.600482 .. 0.014102565</td><td>1</td><td>0.37144002 .. 225.01274</td><td>-13.724207 .. -19.51415</td><td>1.5632591 .. 535.7306</td><td>0.94210875 .. 0.16807947</td><td>0.3981669 .. 0.010639639</td><td>1.8537781e-09 .. 6.416469e-19</td><td>0.0008305247 .. 1.0635056</td><td>6.856937e-11</td><td>0.028299168</td><td>0.021570811</td><td>4601116000.0</td><td>106.61283874511719</td><td>109.63866424560547</td><td>10 .. 11</td><td>-0.0007803262 .. 0.0</td><td>4345.746 .. 0.0</td><td>1.0194967 .. -0.04170214</td><td>-0.01024972 .. -0.19242804</td><td>-0.009680829 .. 0.6709904</td><td>-0.28800777 .. -51.113895</td><td>0.641641 .. 180.71252</td><td>8.058507 .. 0.0057766167</td><td>0.006776376 .. 19.828875</td><td>605.97186 .. 0.76043653</td><td>0.7563008</td><td>146.59833</td><td>0.5640161</td><td>139.09671</td><td>0.3004111 .. 188.06877</td><td>20.470825 .. 0.034479737</td><td>0.5</td><td>0.46315262</td><td>135.73392</td><td>-1.2211314 .. 0.09449971</td><td>-0.6252341 .. 0.07285082</td><td>0 .. 0</td><td>0</td><td>30</td><td>v2_1_13</td><td>0.22341923 .. 258.39</td><td>8.891541</td><td>4.383704</td><td>10.253274</td><td>5.9572287</td><td>266</td><td>12</td><td>51630</td><td>146.96560224016943</td><td>-0.5450110833644051</td><td>0.0</td><td>sdss</td><td>legacy</td><td>good</td><td>122</td><td>146.9639</td><td>-0.54500256</td><td>0.5640161</td><td>139.09673</td><td>101.91166</td><td>0.24633221</td><td>10.235785</td><td>5.6257644</td><td>10.441939</td><td>10.235785</td><td>0.578448 .. 197.53346</td><td>9.235534 .. 0.0076996405</td><td>9.599341 .. 5.6851897</td><td>14.973279 .. 11.595498</td><td>0.999509</td><td>1.0575701 .. 1.0006093</td><td>1.0556166 .. 1.0001466</td><td>1.3775514 .. 222.26572</td><td>1.6216505 .. 0.004946779</td><td>1</td><td>0.3789356 .. 240.93816</td><td>-14.453494 .. -19.579548</td><td>2.6105032 .. 207.30931</td><td>0.416085 .. 0.022728156</td><td>3.6889899e-06 .. 1.2268236e-16</td><td>4724134000.0</td><td>0.00082218135 .. 1.0084745</td><td>1.2681366e-10</td><td>0.11364883</td><td>0.025576953</td><td>1.0</td><td>1.5837173461914062</td><td>0.22658360379279563</td><td>0.5852508544921875</td><td>0.044591586043275296</td><td>4.756357192993164</td><td>0.4099803131709217</td><td>4000002</td><td>-99</td><td>-99.0</td><td>-99.0</td><td>-99.0</td><td>-99.0</td><td>-99.0</td><td>-99</td><td>--</td><td>--</td><td>--</td><td>-99</td><td>--</td><td>--</td><td>--</td><td>--</td><td>--</td><td>--</td><td>--</td><td>--</td><td>--</td><td>--</td><td>--</td><td>--</td><td>--</td><td>-99</td><td>89.86105116910714</td></tr>\n",
       "</table></div>"
      ],
      "text/plain": [
       "<Table length=5>\n",
       "      IAUNAME                  SUBDIR           ...     aimc_greg     \n",
       "      bytes19                 bytes27           ...      float64      \n",
       "------------------- --------------------------- ... ------------------\n",
       "J094651.40-010228.5 09h/m00/J094651.40-010228.5 ...  89.56183357164186\n",
       "J094630.85-004554.5 09h/m00/J094630.85-004554.5 ... 18.598955889613862\n",
       "J094631.59-005917.7 09h/m00/J094631.59-005917.7 ...  89.91422927504323\n",
       "J094744.18-004013.4 09h/m00/J094744.18-004013.4 ... 12.600130755505248\n",
       "J094751.74-003242.0 09h/m00/J094751.74-003242.0 ...  89.86105116910714"
      ]
     },
     "execution_count": 6,
     "metadata": {},
     "output_type": "execute_result"
    }
   ],
   "source": [
    "galaxies[:5]"
   ]
  },
  {
   "cell_type": "markdown",
   "metadata": {},
   "source": [
    "# Define early type galaxies\n",
    "\n",
    "These are galaxies with aimc < 25 or aimc > 270 with an inverse concentration index < 0.43"
   ]
  },
  {
   "cell_type": "code",
   "execution_count": 7,
   "metadata": {},
   "outputs": [],
   "source": [
    "aimc_boolean = np.logical_or(galaxies['aimc_greg'] < 35, galaxies['aimc_greg'] > 270)\n",
    "\n",
    "early_boolean = np.logical_and(aimc_boolean, galaxies['conx1'] < 0.43)\n",
    "\n",
    "early_galaxies = galaxies[early_boolean]\n",
    "late_galaxies = galaxies[np.logical_not(early_boolean)]"
   ]
  },
  {
   "cell_type": "markdown",
   "metadata": {},
   "source": [
    "# Color distribution"
   ]
  },
  {
   "cell_type": "code",
   "execution_count": 10,
   "metadata": {},
   "outputs": [
    {
     "data": {
      "image/png": "[encoded data removed]",
      "text/plain": [
       "<Figure size 864x360 with 2 Axes>"
      ]
     },
     "metadata": {
      "needs_background": "light"
     },
     "output_type": "display_data"
    }
   ],
   "source": [
    "plt.figure(figsize=(12,5))\n",
    "\n",
    "x_range = np.linspace(-1,5,100)\n",
    "\n",
    "\n",
    "plt.subplot(121)\n",
    "\n",
    "plt.hist(early_galaxies['u_r_KIAS'], bins=x_range, alpha=0.5, facecolor='r')\n",
    "plt.hist(late_galaxies['u_r_KIAS'], bins=x_range, alpha=0.5, facecolor='b')\n",
    "\n",
    "plt.xlabel('u - r (KIAS)')\n",
    "\n",
    "\n",
    "plt.subplot(122)\n",
    "\n",
    "plt.hist(early_galaxies['u_r'], bins=x_range, alpha=0.5, facecolor='r')\n",
    "plt.hist(late_galaxies['u_r'], bins=x_range, alpha=0.5, facecolor='b')\n",
    "\n",
    "plt.xlabel('u - r (NSA)');"
   ]
  },
  {
   "cell_type": "markdown",
   "metadata": {},
   "source": [
    "# Define GV galaxies\n",
    "\n",
    "These are those galaxies which should be in the red sequence except for their high inverse concentration indices."
   ]
  },
  {
   "cell_type": "code",
   "execution_count": 11,
   "metadata": {},
   "outputs": [],
   "source": [
    "gv_boolean = np.logical_and(aimc_boolean, galaxies['conx1'] >= 0.43)\n",
    "\n",
    "gv_galaxies = galaxies[gv_boolean]\n",
    "\n",
    "bc_galaxies = galaxies[np.logical_not(np.logical_or(gv_boolean, early_boolean))]"
   ]
  },
  {
   "cell_type": "markdown",
   "metadata": {},
   "source": [
    "## Color distribution"
   ]
  },
  {
   "cell_type": "code",
   "execution_count": 12,
   "metadata": {},
   "outputs": [
    {
     "data": {
      "image/png": "[encoded data removed]",
      "text/plain": [
       "<Figure size 432x288 with 1 Axes>"
      ]
     },
     "metadata": {
      "needs_background": "light"
     },
     "output_type": "display_data"
    }
   ],
   "source": [
    "plt.figure()\n",
    "\n",
    "x_range_NUVr = np.linspace(0,10,100)\n",
    "\n",
    "plt.hist(early_galaxies['NUV_r'], bins=x_range_NUVr, alpha=0.25, facecolor='r')\n",
    "plt.hist(bc_galaxies['NUV_r'], bins=x_range_NUVr, alpha=0.25, facecolor='b')\n",
    "plt.hist(gv_galaxies['NUV_r'], bins=x_range_NUVr, alpha=0.5, facecolor='g')\n",
    "\n",
    "plt.xlabel('NUV - r');"
   ]
  },
  {
   "cell_type": "markdown",
   "metadata": {},
   "source": [
    "This does not seem to have worked.  There are still too many galaxies in the red sequence and blue cloud."
   ]
  },
  {
   "cell_type": "code",
   "execution_count": null,
   "metadata": {},
   "outputs": [],
   "source": []
  }
 ],
 "metadata": {
  "kernelspec": {
   "display_name": "Python 3 (ipykernel)",
   "language": "python",
   "name": "python3"
  },
  "language_info": {
   "codemirror_mode": {
    "name": "ipython",
    "version": 3
   },
   "file_extension": ".py",
   "mimetype": "text/x-python",
   "name": "python",
   "nbconvert_exporter": "python",
   "pygments_lexer": "ipython3",
   "version": "3.10.12"
  }
 },
 "nbformat": 4,
 "nbformat_minor": 4
}
